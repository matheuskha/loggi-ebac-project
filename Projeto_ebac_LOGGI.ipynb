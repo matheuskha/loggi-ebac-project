{
  "nbformat": 4,
  "nbformat_minor": 0,
  "metadata": {
    "colab": {
      "provenance": []
    },
    "kernelspec": {
      "name": "python3",
      "display_name": "Python 3"
    },
    "language_info": {
      "name": "python"
    }
  },
  "cells": [
    {
      "cell_type": "code",
      "source": [
        "# Fazendo o download do arquivo em json da empresa Loggi.\n",
        "# Aonde se quer achar os locais de hub (saída de entrega) e locais de deliveries(destinatário) por onde a empresa faz entregas no estado do DF.\n",
        "\n",
        "!wget -q << EOF https://raw.githubusercontent.com/andre-marcos-perez/ebac-course-utils/main/dataset/deliveries.json EOF \\-O deliveries.json"
      ],
      "metadata": {
        "id": "mSEOv1Qnh8R2"
      },
      "execution_count": null,
      "outputs": []
    },
    {
      "cell_type": "code",
      "source": [
        "# Amostra de como é o arquivo original antes de manipula-lo\n",
        "\n",
        "with open(file='deliveries.json', mode='r', encoding='utf8')as file:\n",
        "  data=json.load(file)\n",
        "\n",
        "deliveries_df = pd.DataFrame(data)\n",
        "deliveries_df.head()"
      ],
      "metadata": {
        "id": "GmYVajyboRV6"
      },
      "execution_count": null,
      "outputs": []
    },
    {
      "cell_type": "code",
      "execution_count": null,
      "metadata": {
        "id": "iIiSWwqjYWp_"
      },
      "outputs": [],
      "source": [
        "# Importação de bibliotecas e pacotes.\n",
        "# Ajustando as colunas (origin) e (deliveries) para que saissem de uma lista dentro do DataFrame.\n",
        "\n",
        "import json\n",
        "import geopy\n",
        "from geopy.geocoders import Nominatim\n",
        "from geopy.extra.rate_limiter import RateLimiter\n",
        "import matplotlib.pyplot as plt\n",
        "import seaborn as sns\n",
        "import numpy as np\n",
        "import pandas as pd\n",
        "import geopandas\n",
        "\n",
        "with open(file='deliveries.json', mode='r', encoding='utf8')as file:\n",
        "  data=json.load(file)\n",
        "\n",
        "deliveries_df = pd.DataFrame(data)\n",
        "\n",
        "# Coluna origin:\n",
        "hub_origin_df = pd.json_normalize(deliveries_df['origin'])\n",
        "\n",
        "deliveries_df= pd.merge(left=deliveries_df, right=hub_origin_df, how='inner', left_index=True, right_index=True)\n",
        "deliveries_df = deliveries_df.drop('origin', axis=1)\n",
        "deliveries_df = deliveries_df[['name', 'region', 'lng', 'lat', 'vehicle_capacity', 'deliveries']]\n",
        "deliveries_df.rename(columns={'lng':'hub_lng', 'lat':'hub_lat'}, inplace=True)\n",
        "\n",
        "# Coluna deliveries\n",
        "deliveries_explod_df = deliveries_df[['deliveries']].explode('deliveries')\n",
        "\n",
        "deliveries_normalized_df = pd.concat([\n",
        "    pd.DataFrame(deliveries_explod_df['deliveries'].apply(lambda record: record['size'])).rename(columns={'deliveries': 'delivery_size'}),\n",
        "    pd.DataFrame(deliveries_explod_df['deliveries'].apply(lambda record: record['point']['lng'])).rename(columns={'deliveries': 'delivery_lng'}),\n",
        "    pd.DataFrame(deliveries_explod_df['deliveries'].apply(lambda record: record['point']['lat'])).rename(columns={'deliveries': 'delivery_lat'}),\n",
        "], axis=1)\n",
        "\n",
        "deliveries_df = deliveries_df.drop('deliveries', axis=1)\n",
        "deliveries_df = pd.merge(left=deliveries_df, right=deliveries_normalized_df, how='right', left_index=True, right_index=True)\n",
        "deliveries_df.reset_index(inplace=True, drop=True)\n",
        "deliveries_df.head()"
      ]
    },
    {
      "cell_type": "code",
      "source": [
        "# Neste código iremos usar algumas bibliotecas para retornar algumas localizaçoes.\n",
        "# Estas localizaçoes serão baseadas pela lng e lat que nos pegamos no código anterior.\n",
        "# Com ela saberemos de onde sai as mercadorias e aonde elas serão entregues.\n",
        "# Fazendo isso será possivel gerar gráficos que nos mostrarão exatamente o mapa de entregas da Loggi no DF.\n",
        "\n",
        "hub_df = deliveries_df[['region', 'hub_lng', 'hub_lat']]\n",
        "hub_df = hub_df.drop_duplicates().sort_values(by='region').reset_index(drop=True)\n",
        "\n",
        "geolocator = Nominatim(user_agent='ebac_geocoder')\n",
        "location = geolocator.reverse('-15.80511751066334, -47.89366206897872')\n",
        "\n",
        "geocoder = RateLimiter(geolocator.reverse, min_delay_seconds=1)\n",
        "\n",
        "hub_df['coordinates'] = hub_df['hub_lat'].astype(str) + ', ' + hub_df['hub_lng'].astype(str)\n",
        "hub_df['geodata'] = hub_df['coordinates'].apply(geocoder)\n",
        "\n",
        "hub_geodata_df = pd.json_normalize(hub_df['geodata'].apply(lambda data: data.raw))\n",
        "\n",
        "hub_geodata_df = hub_geodata_df[['address.town', 'address.suburb', 'address.city']]\n",
        "hub_geodata_df.rename(columns={'address.town':'hub_town', 'address.suburb':'hub_suburb', 'address.city':'hub_city'}, inplace=True)\n",
        "hub_geodata_df['hub_city'] = np.where(hub_geodata_df['hub_city'].notna(), hub_geodata_df['hub_city'], hub_geodata_df['hub_town'])\n",
        "hub_geodata_df['hub_suburb'] = np.where(hub_geodata_df['hub_suburb'].notna(), hub_geodata_df['hub_suburb'], hub_geodata_df['hub_city'])\n",
        "hub_geodata_df = hub_geodata_df.drop('hub_town', axis=1)\n",
        "hub_geodata_df.head()\n",
        "\n",
        "hub_df = pd.merge(left= hub_df, right= hub_geodata_df, left_index=True, right_index=True)\n",
        "hub_df = hub_df[['region', 'hub_suburb', 'hub_city']]\n",
        "\n",
        "deliveries_df = pd.merge(left= deliveries_df, right= hub_df, how= 'inner', on= 'region')\n",
        "deliveries_df = deliveries_df[['name', 'region', 'hub_lng', 'hub_lat', 'hub_city', 'hub_suburb', 'vehicle_capacity', 'delivery_size', 'delivery_lng', 'delivery_lat']]\n",
        "\n",
        "# Aqui iremos fazer o download dos deliveries que teve que ser feito por outra ferramenta na própria maquina.\n",
        "# Pelo faot dos delveries serem muito grandes, levaria cerca de 7 dias para se rodar ele por completo no colab.\n",
        "!wget -q << EOF https://raw.githubusercontent.com/andre-marcos-perez/ebac-course-utils/main/dataset/deliveries-geodata.csv EOF \\-O deliveries-geodata.csv\n",
        "\n",
        "deliveries_geodata_df = pd.read_csv('deliveries-geodata.csv')\n",
        "\n",
        "deliveries_df = pd.merge(left=deliveries_df, right=deliveries_geodata_df[[\"delivery_city\", \"delivery_suburb\"]], how=\"inner\", left_index=True, right_index=True)\n",
        "deliveries_df.head()"
      ],
      "metadata": {
        "id": "yHo5sgXRiqBk"
      },
      "execution_count": null,
      "outputs": []
    },
    {
      "cell_type": "code",
      "source": [
        "# Neste código iremos gerar dois gráficos: Barras e um aonde nos mostrará os locais e aréas de distribuição da Loggi.\n",
        "# Também conseguiremos ver mais detalhadamente aonde é mais fácil de se entregar, aonde é mais difícil, qual a maior e a menor área e etc.\n",
        "\n",
        "# Aqui estamos fazendo um download das áread do DF edescompactando-as para se poder usar no restante do código.\n",
        "!wget -q << EOF https://geoftp.ibge.gov.br/cartas_e_mapas/bases_cartograficas_continuas/bc100/go_df/versao2016/shapefile/bc100_go_df_shp.zip EOF \\-O distrito-federal.zip\n",
        "!unzip -q distrito-federal.zip -d ./maps\n",
        "!cp ./maps/LIM_Unidade_Federacao_A.shp ./distrito-federal.shp\n",
        "!cp ./maps/LIM_Unidade_Federacao_A.shx ./distrito-federal.shx\n",
        "\n",
        "mapa = geopandas.read_file(\"distrito-federal.shp\")\n",
        "mapa = mapa.loc[[0]]\n",
        "\n",
        "hub_df = deliveries_df[[\"region\", \"hub_lng\", \"hub_lat\"]].drop_duplicates( ).reset_index(drop=True)\n",
        "geo_hub_df = geopandas.GeoDataFrame( hub_df, geometry=geopandas.points_from_xy( hub_df[\"hub_lng\"], hub_df[\"hub_lat\"]))\n",
        "\n",
        "geo_deliveries_df = geopandas.GeoDataFrame( deliveries_df,geometry=geopandas.points_from_xy( deliveries_df[\"delivery_lng\"],deliveries_df[\"delivery_lat\"]))\n",
        "\n",
        "# cria o plot vazio\n",
        "fig, ax = plt.subplots(figsize = (50/2.54, 50/2.54))\n",
        "\n",
        "# plot mapa do distrito federal\n",
        "mapa.plot(ax=ax, alpha=0.4, color=\"lightgrey\")\n",
        "\n",
        "# plot das entregas\n",
        "geo_deliveries_df.query(\"region == 'df-0'\").plot( ax=ax, markersize=1, color=\"red\", label=\"df-0\" )\n",
        "geo_deliveries_df.query(\"region == 'df-1'\").plot( ax=ax, markersize=1, color=\"blue\", label=\"df-1\" )\n",
        "geo_deliveries_df.query(\"region == 'df-2'\").plot( ax=ax, markersize=1, color=\"seagreen\", label=\"df-2\" )\n",
        "\n",
        "# plot dos hubs\n",
        "geo_hub_df.plot( ax=ax, markersize=30, marker=\"x\", color=\"black\", label=\"hub\" )\n",
        "\n",
        "# plot da legenda\n",
        "plt.title( \"Entregas no Distrito Federal por Região\", fontdict={\"fontsize\": 16} )\n",
        "lgnd = plt.legend(prop={\"size\": 15})\n",
        "for handle in lgnd.legendHandles:\n",
        "  handle.set_sizes([50])\n",
        "\n",
        "  print('\\nNeste mapa vemos que as regiões do df-0 e df-2 contem a maior área dispersa de entregas,\\nem comparação com a df-1 que é mais concentrada, elas são bem mais afastadas.\\n')\n",
        "\n",
        "data = pd.DataFrame(deliveries_df[['region',  'vehicle_capacity']].value_counts(normalize=True)).reset_index()\n",
        "data.rename(columns={0: \"region_percent\"}, inplace=True)\n",
        "\n",
        "# Gráfivo de barras:\n",
        "with sns.axes_style('whitegrid'):\n",
        "  grafico = sns.barplot( data=data, x=\"region\", y=\"region_percent\", ci=None, palette=\"pastel\" )\n",
        "  grafico.set( title='Proporção de entregas por região', xlabel='Região', ylabel='Proporção' )\n",
        "\n",
        "  print('\\nCom o gráfico de barras abaixo, vemos perfeitamente que a região com o maior índice de entregas é de fato o df-1\\n')"
      ],
      "metadata": {
        "id": "Xgj5g-nUj6ib"
      },
      "execution_count": null,
      "outputs": []
    }
  ]
}